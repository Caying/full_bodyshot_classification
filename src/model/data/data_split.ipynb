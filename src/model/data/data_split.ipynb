{
 "cells": [
  {
   "cell_type": "code",
   "execution_count": null,
   "metadata": {},
   "outputs": [],
   "source": [
    "import os\n",
    "import re\n",
    "import pandas as pd\n",
    "import numpy as np\n",
    "import cv2"
   ]
  },
  {
   "cell_type": "code",
   "execution_count": null,
   "metadata": {},
   "outputs": [],
   "source": [
    "from PIL import Image"
   ]
  },
  {
   "cell_type": "code",
   "execution_count": null,
   "metadata": {},
   "outputs": [],
   "source": [
    "cd raw"
   ]
  },
  {
   "cell_type": "code",
   "execution_count": null,
   "metadata": {},
   "outputs": [],
   "source": [
    "pass_=[]\n",
    "fail_=[]\n",
    "\n",
    "for file in os.listdir():\n",
    "    \n",
    "    item_id=[]\n",
    "    if re.search('ipynb',file) == None:\n",
    "\n",
    "        for i in os.listdir(file):\n",
    "            item_id.append(i[5:])\n",
    "        item_id = list(set(item_id))\n",
    "\n",
    "\n",
    "        for item in item_id:\n",
    "            fail_temp =[] ; pass_temp=[]\n",
    "            fail_path = os.path.join(file,'fail_' + item)\n",
    "            pass_path = os.path.join(file,'pass_' + item)\n",
    "\n",
    "            for file_name in os.listdir(fail_path):\n",
    "                if re.search('.jpg',file_name):\n",
    "                    fail_temp.append(os.path.join('raw',fail_path,file_name))\n",
    "\n",
    "            for file_name in os.listdir(pass_path):\n",
    "                pass_temp.append(os.path.join('raw',pass_path,file_name))        \n",
    "\n",
    "            threshold = min(len(fail_temp),len(pass_temp))\n",
    "\n",
    "            fail_ += fail_temp[:threshold]\n",
    "            pass_ += pass_temp[:threshold]"
   ]
  },
  {
   "cell_type": "code",
   "execution_count": null,
   "metadata": {},
   "outputs": [],
   "source": [
    "p = pd.DataFrame({'path':pass_})\n",
    "p['label']='pass'\n",
    "\n",
    "f = pd.DataFrame({'path':fail_})\n",
    "f['label']='fail'\n",
    "\n",
    "df = pd.concat([p,f],axis=0).reset_index(drop=True)"
   ]
  },
  {
   "cell_type": "code",
   "execution_count": null,
   "metadata": {},
   "outputs": [],
   "source": [
    "from sklearn.model_selection import *\n",
    "temp,test = train_test_split(df,test_size = 0.1)\n",
    "train,vaild = train_test_split(temp,test_size = 0.1)"
   ]
  },
  {
   "cell_type": "code",
   "execution_count": null,
   "metadata": {},
   "outputs": [],
   "source": [
    "cd .."
   ]
  },
  {
   "cell_type": "code",
   "execution_count": null,
   "metadata": {},
   "outputs": [],
   "source": [
    "for i,temp in enumerate(zip(train['path'],train['label'])):\n",
    "    i += 10000\n",
    "    path = temp[0]\n",
    "    label = temp[1]\n",
    "    os.rename(path, \"train/{}/{}_{}.jpg\".format(label,label,i))"
   ]
  },
  {
   "cell_type": "code",
   "execution_count": null,
   "metadata": {},
   "outputs": [],
   "source": [
    "for i,temp in enumerate(zip(test['path'],test['label'])):\n",
    "    i += 20000\n",
    "    path = temp[0]\n",
    "    label = temp[1]\n",
    "    os.rename(path, \"test/{}/{}_{}.jpg\".format(label,label,i))"
   ]
  },
  {
   "cell_type": "code",
   "execution_count": null,
   "metadata": {},
   "outputs": [],
   "source": [
    "for i,temp in enumerate(zip(vaild['path'],vaild['label'])):\n",
    "    i += 30000\n",
    "    path = temp[0]\n",
    "    label = temp[1]\n",
    "    os.rename(path, \"vaild/{}/{}_{}.jpg\".format(label,label,i))"
   ]
  },
  {
   "cell_type": "code",
   "execution_count": null,
   "metadata": {},
   "outputs": [],
   "source": [
    "\"\"\"\n",
    "temp=['train/pass','train/fail','valid/pass','valid/fail','test/pass','test/fail']\n",
    "for path in temp:\n",
    "    for i in os.listdir(path):\n",
    "        Image.open(path+'/'+i)\n",
    "\n",
    "\n",
    "\n",
    "from tqdm import tqdm_notebook\n",
    "temp=['train/pass','train/fail','valid/pass','valid/fail','test/pass','test/fail']\n",
    "for k,path in enumerate(tqdm_notebook(temp)):\n",
    "    code = k * 10000\n",
    "    for i,name in enumerate(os.listdir(path)):\n",
    "        os.rename(os.path.join(path,name),os.path.join(path,path[-4:]+'_'+str(code+i)+'.jpg'))\n",
    "\"\"\""
   ]
  }
 ],
 "metadata": {
  "kernelspec": {
   "display_name": "Python 3",
   "language": "python",
   "name": "python3"
  },
  "language_info": {
   "codemirror_mode": {
    "name": "ipython",
    "version": 3
   },
   "file_extension": ".py",
   "mimetype": "text/x-python",
   "name": "python",
   "nbconvert_exporter": "python",
   "pygments_lexer": "ipython3",
   "version": "3.7.6"
  }
 },
 "nbformat": 4,
 "nbformat_minor": 4
}
