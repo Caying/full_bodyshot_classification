{
 "cells": [
  {
   "cell_type": "code",
   "execution_count": 2,
   "metadata": {},
   "outputs": [],
   "source": [
    "import os\n",
    "import re\n",
    "import pandas as pd\n",
    "import numpy as np\n",
    "import cv2"
   ]
  },
  {
   "cell_type": "code",
   "execution_count": 1,
   "metadata": {},
   "outputs": [],
   "source": [
    "from PIL import Image"
   ]
  },
  {
   "cell_type": "code",
   "execution_count": null,
   "metadata": {},
   "outputs": [],
   "source": [
    "cd 'raw'"
   ]
  },
  {
   "cell_type": "code",
   "execution_count": 11,
   "metadata": {},
   "outputs": [],
   "source": [
    "temp=['train/pass','train/fail','valid/pass','valid/fail','test/pass','test/fail']\n",
    "for path in temp:\n",
    "    for i in os.listdir(path):\n",
    "        Image.open(path+'/'+i)"
   ]
  },
  {
   "cell_type": "code",
   "execution_count": null,
   "metadata": {},
   "outputs": [],
   "source": [
    "for i in \n",
    "Image.open('')"
   ]
  },
  {
   "cell_type": "code",
   "execution_count": 2,
   "metadata": {},
   "outputs": [
    {
     "data": {
      "text/plain": [
       "'/Volumes/GoogleDrive/내 드라이브/Projects/full_bodyshot_classification/src/model/data'"
      ]
     },
     "execution_count": 2,
     "metadata": {},
     "output_type": "execute_result"
    }
   ],
   "source": [
    "os.getcwd()"
   ]
  },
  {
   "cell_type": "code",
   "execution_count": 4,
   "metadata": {},
   "outputs": [],
   "source": [
    "temp=\n"
   ]
  },
  {
   "cell_type": "code",
   "execution_count": 7,
   "metadata": {},
   "outputs": [
    {
     "name": "stderr",
     "output_type": "stream",
     "text": [
      "/Users/gimjuho/opt/anaconda3/lib/python3.7/site-packages/ipykernel_launcher.py:3: TqdmDeprecationWarning: This function will be removed in tqdm==5.0.0\n",
      "Please use `tqdm.notebook.tqdm` instead of `tqdm.tqdm_notebook`\n",
      "  This is separate from the ipykernel package so we can avoid doing imports until\n"
     ]
    },
    {
     "data": {
      "application/vnd.jupyter.widget-view+json": {
       "model_id": "152712fb21c949548f04976cdecd42ac",
       "version_major": 2,
       "version_minor": 0
      },
      "text/plain": [
       "HBox(children=(FloatProgress(value=0.0, max=6.0), HTML(value='')))"
      ]
     },
     "metadata": {},
     "output_type": "display_data"
    },
    {
     "name": "stdout",
     "output_type": "stream",
     "text": [
      "\n"
     ]
    }
   ],
   "source": [
    "from tqdm import tqdm_notebook\n",
    "temp=['train/pass','train/fail','valid/pass','valid/fail','test/pass','test/fail']\n",
    "for k,path in enumerate(tqdm_notebook(temp)):\n",
    "    code = k * 10000\n",
    "    for i,name in enumerate(os.listdir(path)):\n",
    "        os.rename(os.path.join(path,name),os.path.join(path,path[-4:]+'_'+str(code+i)+'.jpg'))"
   ]
  },
  {
   "cell_type": "code",
   "execution_count": 36,
   "metadata": {},
   "outputs": [
    {
     "data": {
      "text/plain": [
       "'pass'"
      ]
     },
     "execution_count": 36,
     "metadata": {},
     "output_type": "execute_result"
    }
   ],
   "source": [
    "temp[0][-4:]"
   ]
  },
  {
   "cell_type": "code",
   "execution_count": 30,
   "metadata": {},
   "outputs": [],
   "source": [
    "temp2=[]\n",
    "for i in os.listdir('train/fail'):\n",
    "    temp2.append(i[-5:])"
   ]
  },
  {
   "cell_type": "code",
   "execution_count": 31,
   "metadata": {},
   "outputs": [
    {
     "name": "stdout",
     "output_type": "stream",
     "text": [
      "['0.jpg' '1.jpg' '2.jpg' '3.jpg' '4.jpg' '5.jpg' '6.jpg' '7.jpg' '8.jpg'\n",
      " '9.jpg']\n",
      "['0.jpg' '1.jpg' '2.jpg' '3.jpg' '4.jpg' '5.jpg' '6.jpg' '7.jpg' '8.jpg'\n",
      " '9.jpg']\n"
     ]
    }
   ],
   "source": [
    "print(np.unique(temp1))\n",
    "print(np.unique(temp2))"
   ]
  },
  {
   "cell_type": "code",
   "execution_count": 155,
   "metadata": {},
   "outputs": [],
   "source": [
    "pass_=[]\n",
    "fail_=[]\n",
    "\n",
    "for file in os.listdir():\n",
    "    \n",
    "    item_id=[]\n",
    "    if re.search('ipynb',file) == None:\n",
    "\n",
    "        for i in os.listdir(file):\n",
    "            item_id.append(i[5:])\n",
    "        item_id = list(set(item_id))\n",
    "\n",
    "\n",
    "        for item in item_id:\n",
    "            fail_temp =[] ; pass_temp=[]\n",
    "            fail_path = os.path.join(file,'fail_' + item)\n",
    "            pass_path = os.path.join(file,'pass_' + item)\n",
    "\n",
    "            for file_name in os.listdir(fail_path):\n",
    "                if re.search('.jpg',file_name):\n",
    "                    fail_temp.append(os.path.join(fail_path,file_name))\n",
    "\n",
    "            for file_name in os.listdir(pass_path):\n",
    "                pass_temp.append(os.path.join(pass_path,file_name))        \n",
    "\n",
    "            threshold = min(len(fail_temp),len(pass_temp))\n",
    "\n",
    "            fail_ += fail_temp[:threshold]\n",
    "            pass_ += pass_temp[:threshold]"
   ]
  },
  {
   "cell_type": "code",
   "execution_count": 161,
   "metadata": {},
   "outputs": [],
   "source": [
    "p = pd.DataFrame({'path':pass_})\n",
    "p['label']='pass'\n",
    "\n",
    "f = pd.DataFrame({'path':fail_})\n",
    "f['label']='fail'\n",
    "\n",
    "df = pd.concat([p,f],axis=0).reset_index(drop=True)"
   ]
  },
  {
   "cell_type": "code",
   "execution_count": 206,
   "metadata": {},
   "outputs": [],
   "source": [
    "from sklearn.model_selection import *\n",
    "temp,test = train_test_split(df,test_size = 0.1)\n",
    "train,vaild = train_test_split(temp,test_size = 0.1)"
   ]
  },
  {
   "cell_type": "code",
   "execution_count": 232,
   "metadata": {},
   "outputs": [],
   "source": [
    "for i,temp in enumerate(zip(train['path'],train['label'])):\n",
    "    path = temp[0]\n",
    "    label = temp[1]\n",
    "    os.rename(path, \"train/{}/{}.jpg\".format(label,i))"
   ]
  },
  {
   "cell_type": "code",
   "execution_count": 233,
   "metadata": {},
   "outputs": [],
   "source": [
    "for i,temp in enumerate(zip(test['path'],test['label'])):\n",
    "    path = temp[0]\n",
    "    label = temp[1]\n",
    "    os.rename(path, \"test/{}/{}.jpg\".format(label,i))"
   ]
  },
  {
   "cell_type": "code",
   "execution_count": 234,
   "metadata": {},
   "outputs": [],
   "source": [
    "for i,temp in enumerate(zip(vaild['path'],vaild['label'])):\n",
    "    path = temp[0]\n",
    "    label = temp[1]\n",
    "    os.rename(path, \"vaild/{}/{}.jpg\".format(label,i))"
   ]
  }
 ],
 "metadata": {
  "kernelspec": {
   "display_name": "Python 3",
   "language": "python",
   "name": "python3"
  },
  "language_info": {
   "codemirror_mode": {
    "name": "ipython",
    "version": 3
   },
   "file_extension": ".py",
   "mimetype": "text/x-python",
   "name": "python",
   "nbconvert_exporter": "python",
   "pygments_lexer": "ipython3",
   "version": "3.7.6"
  }
 },
 "nbformat": 4,
 "nbformat_minor": 4
}
