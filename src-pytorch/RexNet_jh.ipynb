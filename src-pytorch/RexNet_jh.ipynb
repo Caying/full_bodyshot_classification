{
  "nbformat": 4,
  "nbformat_minor": 0,
  "metadata": {
    "colab": {
      "name": "RexNet.ipynb",
      "provenance": [],
      "collapsed_sections": []
    },
    "kernelspec": {
      "name": "python3",
      "display_name": "Python 3"
    },
    "accelerator": "GPU"
  },
  "cells": [
    {
      "cell_type": "markdown",
      "metadata": {
        "id": "xhJId2qp1OOI",
        "colab_type": "text"
      },
      "source": [
        "# 0. Set Environment"
      ]
    },
    {
      "cell_type": "code",
      "metadata": {
        "id": "6rmclab2EQpp",
        "colab_type": "code",
        "colab": {}
      },
      "source": [
        "from google.colab import drive\n",
        "drive.mount('/content/drive')"
      ],
      "execution_count": null,
      "outputs": []
    },
    {
      "cell_type": "code",
      "metadata": {
        "id": "jL0P1m8TL7yL",
        "colab_type": "code",
        "colab": {}
      },
      "source": [
        "!pip install pytorch-lightning"
      ],
      "execution_count": null,
      "outputs": []
    },
    {
      "cell_type": "code",
      "metadata": {
        "id": "EX6Xi7fGERBY",
        "colab_type": "code",
        "colab": {}
      },
      "source": [
        "cd /content/drive/My Drive/Projects/full_bodyshot_classification/src-pytorch"
      ],
      "execution_count": null,
      "outputs": []
    },
    {
      "cell_type": "markdown",
      "metadata": {
        "id": "ua8D2-hw1WSX",
        "colab_type": "text"
      },
      "source": [
        "# 1. Build Model"
      ]
    },
    {
      "cell_type": "code",
      "metadata": {
        "id": "E4C8fNYvHIYe",
        "colab_type": "code",
        "colab": {}
      },
      "source": [
        "import torch\n",
        "import pytorch_lightning as pl\n",
        "from pytorch_lightning.logging import TensorBoardLogger\n",
        "from lightning_rexnetv1 import *"
      ],
      "execution_count": null,
      "outputs": []
    },
    {
      "cell_type": "code",
      "metadata": {
        "id": "Vr_b8ITKRYPJ",
        "colab_type": "code",
        "colab": {}
      },
      "source": [
        "# 앞에 _붙으면 import 안됨, conv층과 conv_swish import\n",
        "\n",
        "def _add_conv(out, in_channels, channels, kernel=1, stride=1, pad=0,\n",
        "              num_group=1, active=True, relu6=False):\n",
        "    out.append(nn.Conv2d(in_channels, channels, kernel, stride, pad, groups=num_group, bias=False))\n",
        "    out.append(nn.BatchNorm2d(channels))\n",
        "    if active:\n",
        "        out.append(nn.ReLU6(inplace=True) if relu6 else nn.ReLU(inplace=True))\n",
        "\n",
        "\n",
        "def _add_conv_swish(out, in_channels, channels, kernel=1, stride=1, pad=0, num_group=1):\n",
        "    out.append(nn.Conv2d(in_channels, channels, kernel, stride, pad, groups=num_group, bias=False))\n",
        "    out.append(nn.BatchNorm2d(channels))\n",
        "    out.append(Swish())"
      ],
      "execution_count": null,
      "outputs": []
    },
    {
      "cell_type": "code",
      "metadata": {
        "id": "46WyNzquMsuk",
        "colab_type": "code",
        "colab": {}
      },
      "source": [
        "# Set a Callback \n",
        "class PrintCallback(pl.Callback):\n",
        "    def on_train_start(self, trainer, pl_module):\n",
        "        print('*** Training starts...')\n",
        "    def on_train_end(self, trainer, pl_module):\n",
        "        print('*** Training is done.')"
      ],
      "execution_count": null,
      "outputs": []
    },
    {
      "cell_type": "code",
      "metadata": {
        "id": "Q--vYvKaQdTz",
        "colab_type": "code",
        "colab": {}
      },
      "source": [
        "# Set a model\n",
        "# Can scale model by 'width'\n",
        "# Issue : 1.5x \n",
        "class CustomReXNetV1(pl.LightningModule):\n",
        "    \"\"\"\n",
        "    \"\"\"\n",
        "    def __init__(self, hparams, input_ch=16, final_ch=180, width_mult=1.0, depth_mult=1.0, classes=1000,\n",
        "                 use_se=True,\n",
        "                 se_ratio=12,\n",
        "                 dropout_ratio=0.5,\n",
        "                 bn_momentum=0.9):\n",
        "        super(CustomReXNetV1, self).__init__()\n",
        "\n",
        "        self.hparams = hparams\n",
        "        self.path = hparams['path']\n",
        "        self.lr = hparams['lr']\n",
        "        self.batch_size = hparams['batch_size']\n",
        "        self.num_classes = hparams['num_classes']\n",
        "        self.width_mult = hparams['mult'] # Add mult for select scale\n",
        "        self.depth_mult = hparams['mult'] # Add mult for select scale\n",
        "        \n",
        "        self.pretrain = True if hparams['pretrain'].lower() == 'true' else False\n",
        "\n",
        "        if self.pretrain:\n",
        "            self.model = ReXNetV1(width_mult=self.width_mult)#,depth_mult=self.depth_mult)\n",
        "            self.model.load_state_dict(torch.load('./rexnet_pretrained/rexnetv1_{}x.pth'.format(str(hparams['mult'])))) # load_scale\n",
        "        self.save_hyperparameters()\n",
        "\n",
        "        layers = [1, 2, 2, 3, 3, 5]\n",
        "        strides = [1, 2, 2, 2, 1, 2]\n",
        "        layers = [ceil(element * depth_mult) for element in layers]\n",
        "        strides = sum([[element] + [1] * (layers[idx] - 1) for idx, element in enumerate(strides)], [])\n",
        "        ts = [1] * layers[0] + [6] * sum(layers[1:])\n",
        "        self.depth = sum(layers[:]) * 3\n",
        "\n",
        "        stem_channel = 32 / width_mult if width_mult < 1.0 else 32\n",
        "        inplanes = input_ch / width_mult if width_mult < 1.0 else input_ch\n",
        "\n",
        "        features = []\n",
        "        in_channels_group = []\n",
        "        channels_group = []\n",
        "\n",
        "        _add_conv_swish(features, 3, int(round(stem_channel * width_mult)), kernel=3, stride=2, pad=1)\n",
        "\n",
        "        # The following channel configuration is a simple instance to make each layer become an expand layer.\n",
        "        for i in range(self.depth // 3):\n",
        "            if i == 0:\n",
        "                in_channels_group.append(int(round(stem_channel * width_mult)))\n",
        "                channels_group.append(int(round(inplanes * width_mult)))\n",
        "            else:\n",
        "                in_channels_group.append(int(round(inplanes * width_mult)))\n",
        "                inplanes += final_ch / (self.depth // 3 * 1.0)\n",
        "                channels_group.append(int(round(inplanes * width_mult)))\n",
        "\n",
        "        if use_se:\n",
        "            use_ses = [False] * (layers[0] + layers[1]) + [True] * sum(layers[2:])\n",
        "        else:\n",
        "            use_ses = [False] * sum(layers[:])\n",
        "\n",
        "        for block_idx, (in_c, c, t, s, se) in enumerate(zip(in_channels_group, channels_group, ts, strides, use_ses)):\n",
        "            features.append(LinearBottleneck(in_channels=in_c,\n",
        "                                             channels=c,\n",
        "                                             t=t,\n",
        "                                             stride=s,\n",
        "                                             use_se=se, se_ratio=se_ratio))\n",
        "\n",
        "        pen_channels = int(1280 * width_mult)\n",
        "        _add_conv_swish(features, c, pen_channels)\n",
        "\n",
        "        features.append(nn.AdaptiveAvgPool2d(1))\n",
        "        self.features = nn.Sequential(*features)\n",
        "        self.output = nn.Sequential(\n",
        "            nn.Dropout(dropout_ratio),\n",
        "            nn.Conv2d(pen_channels, classes, 1, bias=True))\n",
        "\n",
        "        # additional\n",
        "        self.fc = nn.Sequential(\n",
        "            nn.Linear(1000, 2)\n",
        "        )\n",
        "\n",
        "    def forward(self, x):\n",
        "        if self.pretrain:\n",
        "            x = self.model(x)\n",
        "            x = self.fc(x)\n",
        "            return x\n",
        "\n",
        "        x = self.features(x)\n",
        "        x = self.output(x).squeeze()\n",
        "        return x\n",
        "\n",
        "    def train_dataloader(self):\n",
        "        train_dset = get_dataset(self.path, 'train')\n",
        "        train_loader = get_dataloader(train_dset, self.batch_size)\n",
        "        return train_loader\n",
        "\n",
        "    def val_dataloader(self):\n",
        "        val_dset = get_dataset(self.path, 'valid')\n",
        "        val_loader = get_dataloader(val_dset, self.batch_size)\n",
        "        return val_loader\n",
        "\n",
        "    def test_dataloader(self):\n",
        "        test_dset = get_dataset(self.path, 'test')\n",
        "        test_loader = get_dataloader(test_dset, self.batch_size)\n",
        "        return test_loader\n",
        "\n",
        "    def configure_optimizers(self):\n",
        "        return optim.Adam(self.parameters(), lr=self.lr)\n",
        "\n",
        "    def training_step(self, batch, batch_idx):\n",
        "        data, target = batch\n",
        "        y_hat = self(data)\n",
        "        criterion = nn.CrossEntropyLoss()\n",
        "        loss = criterion(y_hat, target)\n",
        "\n",
        "        # acc\n",
        "        correct = 0\n",
        "        _, predicted = torch.max(y_hat, 1)\n",
        "        correct += predicted.eq(target).sum().item()\n",
        "        accuracy = 100*(correct/target.size(0))\n",
        "\n",
        "        return {'loss':loss, 'trn_acc':torch.tensor(accuracy)}\n",
        "\n",
        "    def training_epoch_end(self, outputs):\n",
        "        train_loss_mean = torch.stack([x['loss'] for x in outputs]).mean()\n",
        "        train_acc_mean = torch.stack([x['trn_acc'] for x in outputs]).mean()\n",
        "        log = {'avg_trn_loss':train_loss_mean, 'avg_trn_acc':train_acc_mean}\n",
        "        print(log)\n",
        "        return {'log':log, 'trn_loss':train_loss_mean, 'trn_acc':train_acc_mean}\n",
        "\n",
        "    def validation_step(self, batch, batch_idx):\n",
        "        data, target = batch\n",
        "        y_hat = self(data)\n",
        "        criterion = nn.CrossEntropyLoss()\n",
        "        loss = criterion(y_hat, target)\n",
        "\n",
        "        # acc\n",
        "        correct = 0\n",
        "        _, predicted = torch.max(y_hat, 1)\n",
        "        correct += predicted.eq(target).sum().item()\n",
        "        accuracy = 100*(correct/target.size(0))\n",
        "\n",
        "        return {'val_loss':loss, 'val_acc':torch.tensor(accuracy)}\n",
        "\n",
        "    def validation_epoch_end(self, outputs):\n",
        "        val_loss_mean = torch.stack([x['val_loss'] for x in outputs]).mean()\n",
        "        val_acc_mean = torch.stack([x['val_acc'] for x in outputs]).mean()\n",
        "        tensorboard_log = {'avg_val_loss':val_loss_mean, 'avg_val_acc':val_acc_mean}\n",
        "        print(tensorboard_log)\n",
        "        return {'val_loss':val_loss_mean, 'val_acc':val_acc_mean, 'log':tensorboard_log}\n",
        "\n",
        "    def test_step(self, batch, batch_idx):\n",
        "        data, target = batch\n",
        "        y_hat = self(data)\n",
        "        criterion = nn.CrossEntropyLoss()\n",
        "        loss = criterion(y_hat, target)\n",
        "\n",
        "        # acc\n",
        "        correct = 0\n",
        "        _, predicted = torch.max(y_hat, 1)\n",
        "        correct += predicted.eq(target).sum().item()\n",
        "        accuracy = 100*(correct/target.size(0))\n",
        "\n",
        "        return {'test_loss':loss, 'test_acc':torch.tensor(accuracy)}\n",
        "    \n",
        "    def test_epoch_end(self, outputs):\n",
        "        test_loss_mean = torch.stack([x['test_loss'] for x in outputs]).mean()\n",
        "        test_acc_mean = torch.stack([x['test_acc'] for x in outputs]).mean()\n",
        "        tensorboard_log = {'avg_test_loss':test_loss_mean, 'avg_test_acc':test_acc_mean}\n",
        "        print(tensorboard_log)\n",
        "        return {'test_loss':test_loss_mean, 'test_acc':test_acc_mean, 'log':tensorboard_log}"
      ],
      "execution_count": null,
      "outputs": []
    },
    {
      "cell_type": "code",
      "metadata": {
        "id": "OknAVvN-PGVH",
        "colab_type": "code",
        "colab": {}
      },
      "source": [
        "# Set a Hyper Parameters !\n",
        "# == Args\n",
        "hparams={\n",
        "    'gpus' : 1,\n",
        "    'lr' : 0.0001,\n",
        "    'batch_size' : 16,\n",
        "    'epoch' : 200,\n",
        "    'path' : '/content/drive/My Drive/Projects/full_bodyshot_classification/src-pytorch/data',\n",
        "    'num_classes' : 2 ,\n",
        "    'pretrain' : 'True',\n",
        "    'mult' : 2.0\n",
        "    }\n",
        "\n"
      ],
      "execution_count": null,
      "outputs": []
    },
    {
      "cell_type": "code",
      "metadata": {
        "id": "hQ-4slmpnqyd",
        "colab_type": "code",
        "colab": {}
      },
      "source": [
        "model = CustomReXNetV1(hparams)"
      ],
      "execution_count": null,
      "outputs": []
    },
    {
      "cell_type": "code",
      "metadata": {
        "id": "hNmN3bRetNl5",
        "colab_type": "code",
        "colab": {}
      },
      "source": [
        "from pytorch_lightning.callbacks import ModelCheckpoint\n",
        "# default used by the Trainer\n",
        "checkpoint_callback = ModelCheckpoint(\n",
        "    filepath='experiments',\n",
        "    save_top_k=True,\n",
        "    verbose=True,\n",
        "    monitor='val_loss',\n",
        "    mode='min',\n",
        "    prefix=''\n",
        ")"
      ],
      "execution_count": null,
      "outputs": []
    },
    {
      "cell_type": "code",
      "metadata": {
        "id": "0FlEGr45PEMo",
        "colab_type": "code",
        "colab": {}
      },
      "source": [
        "# Train\n",
        "trainer = pl.Trainer(\n",
        "                gpus=hparams['gpus'],\n",
        "                checkpoint_callback=ModelCheckpoint()\n",
        "                max_epochs=hparams['epoch'],\n",
        "                log_save_interval=100\n",
        "                check_val_every_n_epoch=1,\n",
        "\n",
        "                early_stop_callback=True,\n",
        "            )\n",
        "trainer.fit(model)"
      ],
      "execution_count": null,
      "outputs": []
    },
    {
      "cell_type": "code",
      "metadata": {
        "id": "xBOWBeftv_Wd",
        "colab_type": "code",
        "colab": {}
      },
      "source": [
        "#저장 \n",
        "torch.save(model.state_dict(),'RexNetx20_epoch9_dr0.2.pt')"
      ],
      "execution_count": null,
      "outputs": []
    },
    {
      "cell_type": "code",
      "metadata": {
        "id": "FLW1pc19ynAR",
        "colab_type": "code",
        "colab": {}
      },
      "source": [
        ""
      ],
      "execution_count": null,
      "outputs": []
    }
  ]
}